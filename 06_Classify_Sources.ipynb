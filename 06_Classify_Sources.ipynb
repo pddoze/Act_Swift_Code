{
 "cells": [
  {
   "cell_type": "code",
   "execution_count": 1,
   "metadata": {
    "ExecuteTime": {
     "end_time": "2021-08-11T19:29:33.564977Z",
     "start_time": "2021-08-11T19:29:32.826954Z"
    }
   },
   "outputs": [
    {
     "name": "stderr",
     "output_type": "stream",
     "text": [
      "/home/boada/Projects/swiftXRT/utilities.py:2: TqdmExperimentalWarning: Using `tqdm.autonotebook.tqdm` in notebook mode. Use `tqdm.tqdm` instead to force console mode (e.g. in jupyter console)\n",
      "  from tqdm.autonotebook import tqdm\n"
     ]
    }
   ],
   "source": [
    "# %matplotlib notebook\n",
    "import matplotlib.pyplot as plt\n",
    "import numpy as np\n",
    "from astropy.table import Table, Column\n",
    "from scipy.stats import ks_2samp\n",
    "from scipy.stats import ksone\n",
    "\n",
    "import os\n",
    "import sys\n",
    "sys.path.append(f'{os.environ[\"HOME\"]}/Projects/planckClusters/catalogs')\n",
    "from load_catalogs import load_PSZcatalog\n",
    "\n",
    "# parallel processor\n",
    "from utilities import parallel_process"
   ]
  },
  {
   "cell_type": "code",
   "execution_count": 2,
   "metadata": {
    "ExecuteTime": {
     "end_time": "2021-08-11T19:29:33.581292Z",
     "start_time": "2021-08-11T19:29:33.566307Z"
    }
   },
   "outputs": [],
   "source": [
    "def ks_critical_value(alpha, n_trials):\n",
    "    ''' returns the critial value for a given alpha and number of trials'''\n",
    "    return ksone.ppf(1-alpha/2, n_trials)\n",
    "\n",
    "def ks_alpha(cv, n_trials):\n",
    "    ''' returns the alpha for a given critical value and number of trials'''\n",
    "    return ksone.sf(cv, n_trials) * 2\n",
    "\n",
    "def test_ks_cv(alphas=None, n_trials=None):\n",
    "\n",
    "    if not n_trials:\n",
    "        n_trials = range(5,15)\n",
    "    if not alphas:\n",
    "        alphas = [0.5, 0.1, 0.05, 0.02, 0.01]\n",
    "\n",
    "    if isinstance(n_trials, int) or isinstance(n_trials, float):\n",
    "        n_trials = range(n_trials - 2, n_trials + 2)\n",
    "        \n",
    "    # Print table headers\n",
    "    print('{:<6}|{:<6} Level of significance, alpha'.format(' ', ' '))\n",
    "    print('{:<6}|{:>8} {:>8} {:>8} {:>8} {:>8}'.format(*['Trials'] + alphas))\n",
    "    print('-' * 42)\n",
    "    # Print critical values for each n_trials x alpha combination\n",
    "    for t in n_trials:\n",
    "        print('{:6d}|{:>8.5f} {:>8.5f} {:>8.5f} {:>8.5f} {:>8.5f}'\n",
    "              .format(*[t] + [ks_critical_value(a, t) for a in alphas]))\n",
    "\n",
    "def ks_test_sources(name, outpath, plotting=False):\n",
    "    \n",
    "    # detections\n",
    "    if not os.path.isfile(f'{outpath}/{name}/{name}_vtp.detect'):\n",
    "        return\n",
    "    else:\n",
    "        srcs = f'{outpath}/{name}/{name}_vtp.detect'\n",
    "\n",
    "    # mcmc fit data\n",
    "    if not os.path.isfile(f'{outpath}/{name}/{name}_mcmcfits.txt'):\n",
    "        return\n",
    "    else:\n",
    "        mcmcfits = f'{outpath}/{name}/{name}_mcmcfits.txt'\n",
    "        fit = Table.read(mcmcfits, format='ascii', header_start=0)\n",
    "                \n",
    "    # now we need to read the individual detections\n",
    "    detects = Table.read(srcs, hdu=1)\n",
    "\n",
    "    # add a column for classifications!\n",
    "    try:   \n",
    "        # add the columns to the detection catalog\n",
    "        detects.add_column(Column(data=np.ones(len(detects)) * -1, name='Extended', dtype='>i8'))\n",
    "    except ValueError:\n",
    "        pass\n",
    "    \n",
    "    for indx, i in enumerate(detects['INDEX']):\n",
    "        if os.path.isfile(f'{outpath}/{name}/{name}_vtp_{i}.radprof'):\n",
    "            data = Table.read(f'{outpath}/{name}/{name}_vtp_{i}.radprof', format='ascii', header_start=2)\n",
    "        else:\n",
    "            continue\n",
    "    \n",
    "        # where is it in the mcmc file?\n",
    "        loc = fit['ID'] == i\n",
    "        if not loc.any(): # we didn't fit that one with mcmc\n",
    "            continue\n",
    "        bkg = fit['bg_50'][loc] # cnts/s/arcmin2\n",
    "\n",
    "        # convert to cnts/s\n",
    "        pixscale = 2.36 # arcs/pix\n",
    "        bkg *= pixscale**2 / 60**2 # cnts/s/arcmin2 * arcmin2/pix2\n",
    "        source_exp = data['x']/data['y'] - bkg * data['w'] # cnts/s - cnts/s/pix2 * pix2\n",
    "        psf_exp = data['psf'] / data['y'] # cnts/s\n",
    "        \n",
    "        # cummulative distributions\n",
    "        source_cum = np.cumsum(source_exp)\n",
    "        psf_cum = np.cumsum(psf_exp)\n",
    "        \n",
    "        # how far out do we want to go?\n",
    "        bins = 12\n",
    "        \n",
    "        # normalized\n",
    "        source_cum_n = source_cum / source_cum[bins - 1]\n",
    "        psf_cum_n = psf_cum / psf_cum[bins - 1]\n",
    "             \n",
    "        cv = ks_critical_value(0.05, bins)\n",
    "        \n",
    "        if plotting:\n",
    "            print((psf_cum_n - source_cum_n)[:bins])\n",
    "            print(i, (psf_cum_n[:bins] - source_cum_n[:bins]).max(), cv, \n",
    "                  (psf_cum_n[:bins] - source_cum_n[:bins]).max() > cv)\n",
    "        \n",
    "        if (psf_cum_n[:bins] - source_cum_n[:bins]).max() > cv:\n",
    "            detects['Extended'][indx] = 1\n",
    "#             print(i, 'NOT POINT SOURCE')\n",
    "        else:\n",
    "            detects['Extended'][indx] = 0\n",
    "#             print(i, 'POINT SOURCE')\n",
    "        \n",
    "        # plotting\n",
    "        if plotting:\n",
    "            # x-axis, in arcminutes\n",
    "            x = (data['r1'] + data['r2'])/ 2. / 60. * pixscale\n",
    "            plt.plot(x[:bins], source_cum_n[:bins], label=i)\n",
    "\n",
    "            ## if we want to try to use scipy's kstest\n",
    "            print('SciPy ks-test:')\n",
    "            result = ks_2samp(source_cum_n[:bins], psf_cum_n[:bins])\n",
    "            print(i, result)\n",
    "\n",
    "    detects.write(srcs, format='fits', overwrite=True)\n",
    "\n",
    "    # write out the regions\n",
    "    with open(f'{outpath}/{name}/{name}_vtp.reg', 'w') as reg:\n",
    "        reg.write(\"# Region file format: DS9 version 4.1\\n\")\n",
    "        reg.write('global color=cyan dashlist=8 3 width=1 font=\"helvetica 10 normal roman\" select=1 '\n",
    "                  'highlite=1 dash=0 fixed=0 edit=1 move=1 delete=1 include=1 source=1\\n')\n",
    "        reg.write('fk5\\n')\n",
    "        for j, xc, yc, rc, rotc, extd in detects[['INDEX', 'RA', 'DEC', 'R', 'ROTANG', 'Extended']]:\n",
    "            reg.write(f'ellipse({xc},{yc},{(rc[0] * 2.36):.3f}\",{(rc[1] * 2.36):.3f}\",{rotc:.3f}) ')\n",
    "            if extd > 0:\n",
    "                reg.write(f'# color=magenta ')\n",
    "            elif extd < 0:\n",
    "                reg.write('# color=cyan ')\n",
    "            else:\n",
    "                 reg.write(f'# color=yellow ')\n",
    "            reg.write(f'text={{{j}}}\\n')\n",
    "    \n",
    "    \n",
    "    if plotting:\n",
    "        plt.plot(x[:bins], psf_cum_n[:bins], ls='--', label='PSF')\n",
    "        plt.legend()"
   ]
  },
  {
   "cell_type": "code",
   "execution_count": 3,
   "metadata": {
    "ExecuteTime": {
     "end_time": "2021-08-11T19:29:58.242734Z",
     "start_time": "2021-08-11T19:29:35.278841Z"
    }
   },
   "outputs": [
    {
     "name": "stderr",
     "output_type": "stream",
     "text": [
      "WARNING: UnitsWarning: 'erg/s/cm2' contains multiple slashes, which is discouraged by the FITS standard [astropy.units.format.generic]\n"
     ]
    },
    {
     "data": {
      "application/vnd.jupyter.widget-view+json": {
       "model_id": "0cf8f966170c4adba61ff681bcbea008",
       "version_major": 2,
       "version_minor": 0
      },
      "text/plain": [
       "HBox(children=(FloatProgress(value=0.0, description='ks_test_sources', max=1943.0, style=ProgressStyle(descrip…"
      ]
     },
     "metadata": {},
     "output_type": "display_data"
    },
    {
     "name": "stderr",
     "output_type": "stream",
     "text": [
      "<ipython-input-2-4aab13bd9037>:68: RuntimeWarning: invalid value encountered in true_divide\n",
      "  source_exp = data['x']/data['y'] - bkg * data['w'] # cnts/s - cnts/s/pix2 * pix2\n",
      "<ipython-input-2-4aab13bd9037>:69: RuntimeWarning: divide by zero encountered in true_divide\n",
      "  psf_exp = data['psf'] / data['y'] # cnts/s\n",
      "<ipython-input-2-4aab13bd9037>:80: RuntimeWarning: invalid value encountered in true_divide\n",
      "  psf_cum_n = psf_cum / psf_cum[bins - 1]\n"
     ]
    },
    {
     "name": "stdout",
     "output_type": "stream",
     "text": [
      "\n"
     ]
    },
    {
     "ename": "FileNotFoundError",
     "evalue": "[Errno 2] No such file or directory: './data/PSZ2_G230.29-47/PSZ2_G230.29-47_vtp.detect'",
     "output_type": "error",
     "traceback": [
      "\u001b[0;31m---------------------------------------------------------------------------\u001b[0m",
      "\u001b[0;31mFileNotFoundError\u001b[0m                         Traceback (most recent call last)",
      "\u001b[0;32m<ipython-input-3-89d7567203f5>\u001b[0m in \u001b[0;36m<module>\u001b[0;34m\u001b[0m\n\u001b[1;32m     30\u001b[0m \u001b[0;34m\u001b[0m\u001b[0m\n\u001b[1;32m     31\u001b[0m \u001b[0;32mfor\u001b[0m \u001b[0msrc\u001b[0m\u001b[0;34m,\u001b[0m \u001b[0mname\u001b[0m \u001b[0;32min\u001b[0m \u001b[0mzip\u001b[0m\u001b[0;34m(\u001b[0m\u001b[0msrcs\u001b[0m\u001b[0;34m,\u001b[0m \u001b[0mnames\u001b[0m\u001b[0;34m)\u001b[0m\u001b[0;34m:\u001b[0m\u001b[0;34m\u001b[0m\u001b[0;34m\u001b[0m\u001b[0m\n\u001b[0;32m---> 32\u001b[0;31m     \u001b[0mdetects\u001b[0m \u001b[0;34m=\u001b[0m \u001b[0mTable\u001b[0m\u001b[0;34m.\u001b[0m\u001b[0mread\u001b[0m\u001b[0;34m(\u001b[0m\u001b[0;34mf'{outpath}/{name}/{name}_vtp.detect'\u001b[0m\u001b[0;34m,\u001b[0m \u001b[0mhdu\u001b[0m\u001b[0;34m=\u001b[0m\u001b[0;36m1\u001b[0m\u001b[0;34m)\u001b[0m\u001b[0;34m\u001b[0m\u001b[0;34m\u001b[0m\u001b[0m\n\u001b[0m\u001b[1;32m     33\u001b[0m     \u001b[0mdetects\u001b[0m\u001b[0;34m[\u001b[0m\u001b[0msrc\u001b[0m \u001b[0;34m-\u001b[0m \u001b[0;36m1\u001b[0m\u001b[0;34m]\u001b[0m\u001b[0;34m[\u001b[0m\u001b[0;34m'Extended'\u001b[0m\u001b[0;34m]\u001b[0m \u001b[0;34m=\u001b[0m \u001b[0;36m1\u001b[0m \u001b[0;31m# the indexes are 1 index'd\u001b[0m\u001b[0;34m\u001b[0m\u001b[0;34m\u001b[0m\u001b[0m\n\u001b[1;32m     34\u001b[0m     \u001b[0mdetects\u001b[0m\u001b[0;34m.\u001b[0m\u001b[0mwrite\u001b[0m\u001b[0;34m(\u001b[0m\u001b[0;34mf'{outpath}/{name}/{name}_vtp.detect'\u001b[0m\u001b[0;34m,\u001b[0m \u001b[0mformat\u001b[0m\u001b[0;34m=\u001b[0m\u001b[0;34m'fits'\u001b[0m\u001b[0;34m,\u001b[0m \u001b[0moverwrite\u001b[0m\u001b[0;34m=\u001b[0m\u001b[0;32mTrue\u001b[0m\u001b[0;34m)\u001b[0m\u001b[0;34m\u001b[0m\u001b[0;34m\u001b[0m\u001b[0m\n",
      "\u001b[0;32m~/.local/lib/python3.8/site-packages/astropy/table/connect.py\u001b[0m in \u001b[0;36m__call__\u001b[0;34m(self, *args, **kwargs)\u001b[0m\n\u001b[1;32m     50\u001b[0m     \u001b[0;32mdef\u001b[0m \u001b[0m__call__\u001b[0m\u001b[0;34m(\u001b[0m\u001b[0mself\u001b[0m\u001b[0;34m,\u001b[0m \u001b[0;34m*\u001b[0m\u001b[0margs\u001b[0m\u001b[0;34m,\u001b[0m \u001b[0;34m**\u001b[0m\u001b[0mkwargs\u001b[0m\u001b[0;34m)\u001b[0m\u001b[0;34m:\u001b[0m\u001b[0;34m\u001b[0m\u001b[0;34m\u001b[0m\u001b[0m\n\u001b[1;32m     51\u001b[0m         \u001b[0mcls\u001b[0m \u001b[0;34m=\u001b[0m \u001b[0mself\u001b[0m\u001b[0;34m.\u001b[0m\u001b[0m_cls\u001b[0m\u001b[0;34m\u001b[0m\u001b[0;34m\u001b[0m\u001b[0m\n\u001b[0;32m---> 52\u001b[0;31m         \u001b[0mout\u001b[0m \u001b[0;34m=\u001b[0m \u001b[0mregistry\u001b[0m\u001b[0;34m.\u001b[0m\u001b[0mread\u001b[0m\u001b[0;34m(\u001b[0m\u001b[0mcls\u001b[0m\u001b[0;34m,\u001b[0m \u001b[0;34m*\u001b[0m\u001b[0margs\u001b[0m\u001b[0;34m,\u001b[0m \u001b[0;34m**\u001b[0m\u001b[0mkwargs\u001b[0m\u001b[0;34m)\u001b[0m\u001b[0;34m\u001b[0m\u001b[0;34m\u001b[0m\u001b[0m\n\u001b[0m\u001b[1;32m     53\u001b[0m \u001b[0;34m\u001b[0m\u001b[0m\n\u001b[1;32m     54\u001b[0m         \u001b[0;31m# For some readers (e.g., ascii.ecsv), the returned `out` class is not\u001b[0m\u001b[0;34m\u001b[0m\u001b[0;34m\u001b[0m\u001b[0;34m\u001b[0m\u001b[0m\n",
      "\u001b[0;32m~/.local/lib/python3.8/site-packages/astropy/io/registry.py\u001b[0m in \u001b[0;36mread\u001b[0;34m(cls, format, *args, **kwargs)\u001b[0m\n\u001b[1;32m    506\u001b[0m                     \u001b[0;32mtry\u001b[0m\u001b[0;34m:\u001b[0m\u001b[0;34m\u001b[0m\u001b[0;34m\u001b[0m\u001b[0m\n\u001b[1;32m    507\u001b[0m                         \u001b[0mctx\u001b[0m \u001b[0;34m=\u001b[0m \u001b[0mget_readable_fileobj\u001b[0m\u001b[0;34m(\u001b[0m\u001b[0margs\u001b[0m\u001b[0;34m[\u001b[0m\u001b[0;36m0\u001b[0m\u001b[0;34m]\u001b[0m\u001b[0;34m,\u001b[0m \u001b[0mencoding\u001b[0m\u001b[0;34m=\u001b[0m\u001b[0;34m'binary'\u001b[0m\u001b[0;34m)\u001b[0m\u001b[0;34m\u001b[0m\u001b[0;34m\u001b[0m\u001b[0m\n\u001b[0;32m--> 508\u001b[0;31m                         \u001b[0mfileobj\u001b[0m \u001b[0;34m=\u001b[0m \u001b[0mctx\u001b[0m\u001b[0;34m.\u001b[0m\u001b[0m__enter__\u001b[0m\u001b[0;34m(\u001b[0m\u001b[0;34m)\u001b[0m\u001b[0;34m\u001b[0m\u001b[0;34m\u001b[0m\u001b[0m\n\u001b[0m\u001b[1;32m    509\u001b[0m                     \u001b[0;32mexcept\u001b[0m \u001b[0mOSError\u001b[0m\u001b[0;34m:\u001b[0m\u001b[0;34m\u001b[0m\u001b[0;34m\u001b[0m\u001b[0m\n\u001b[1;32m    510\u001b[0m                         \u001b[0;32mraise\u001b[0m\u001b[0;34m\u001b[0m\u001b[0;34m\u001b[0m\u001b[0m\n",
      "\u001b[0;32m/opt/Python_3.8.1/lib/python3.8/contextlib.py\u001b[0m in \u001b[0;36m__enter__\u001b[0;34m(self)\u001b[0m\n\u001b[1;32m    111\u001b[0m         \u001b[0;32mdel\u001b[0m \u001b[0mself\u001b[0m\u001b[0;34m.\u001b[0m\u001b[0margs\u001b[0m\u001b[0;34m,\u001b[0m \u001b[0mself\u001b[0m\u001b[0;34m.\u001b[0m\u001b[0mkwds\u001b[0m\u001b[0;34m,\u001b[0m \u001b[0mself\u001b[0m\u001b[0;34m.\u001b[0m\u001b[0mfunc\u001b[0m\u001b[0;34m\u001b[0m\u001b[0;34m\u001b[0m\u001b[0m\n\u001b[1;32m    112\u001b[0m         \u001b[0;32mtry\u001b[0m\u001b[0;34m:\u001b[0m\u001b[0;34m\u001b[0m\u001b[0;34m\u001b[0m\u001b[0m\n\u001b[0;32m--> 113\u001b[0;31m             \u001b[0;32mreturn\u001b[0m \u001b[0mnext\u001b[0m\u001b[0;34m(\u001b[0m\u001b[0mself\u001b[0m\u001b[0;34m.\u001b[0m\u001b[0mgen\u001b[0m\u001b[0;34m)\u001b[0m\u001b[0;34m\u001b[0m\u001b[0;34m\u001b[0m\u001b[0m\n\u001b[0m\u001b[1;32m    114\u001b[0m         \u001b[0;32mexcept\u001b[0m \u001b[0mStopIteration\u001b[0m\u001b[0;34m:\u001b[0m\u001b[0;34m\u001b[0m\u001b[0;34m\u001b[0m\u001b[0m\n\u001b[1;32m    115\u001b[0m             \u001b[0;32mraise\u001b[0m \u001b[0mRuntimeError\u001b[0m\u001b[0;34m(\u001b[0m\u001b[0;34m\"generator didn't yield\"\u001b[0m\u001b[0;34m)\u001b[0m \u001b[0;32mfrom\u001b[0m \u001b[0;32mNone\u001b[0m\u001b[0;34m\u001b[0m\u001b[0;34m\u001b[0m\u001b[0m\n",
      "\u001b[0;32m~/.local/lib/python3.8/site-packages/astropy/utils/data.py\u001b[0m in \u001b[0;36mget_readable_fileobj\u001b[0;34m(name_or_obj, encoding, cache, show_progress, remote_timeout, sources, http_headers)\u001b[0m\n\u001b[1;32m    235\u001b[0m                 \u001b[0mtimeout\u001b[0m\u001b[0;34m=\u001b[0m\u001b[0mremote_timeout\u001b[0m\u001b[0;34m,\u001b[0m \u001b[0msources\u001b[0m\u001b[0;34m=\u001b[0m\u001b[0msources\u001b[0m\u001b[0;34m,\u001b[0m\u001b[0;34m\u001b[0m\u001b[0;34m\u001b[0m\u001b[0m\n\u001b[1;32m    236\u001b[0m                 http_headers=http_headers)\n\u001b[0;32m--> 237\u001b[0;31m         \u001b[0mfileobj\u001b[0m \u001b[0;34m=\u001b[0m \u001b[0mio\u001b[0m\u001b[0;34m.\u001b[0m\u001b[0mFileIO\u001b[0m\u001b[0;34m(\u001b[0m\u001b[0mname_or_obj\u001b[0m\u001b[0;34m,\u001b[0m \u001b[0;34m'r'\u001b[0m\u001b[0;34m)\u001b[0m\u001b[0;34m\u001b[0m\u001b[0;34m\u001b[0m\u001b[0m\n\u001b[0m\u001b[1;32m    238\u001b[0m         \u001b[0;32mif\u001b[0m \u001b[0mis_url\u001b[0m \u001b[0;32mand\u001b[0m \u001b[0;32mnot\u001b[0m \u001b[0mcache\u001b[0m\u001b[0;34m:\u001b[0m\u001b[0;34m\u001b[0m\u001b[0;34m\u001b[0m\u001b[0m\n\u001b[1;32m    239\u001b[0m             \u001b[0mdelete_fds\u001b[0m\u001b[0;34m.\u001b[0m\u001b[0mappend\u001b[0m\u001b[0;34m(\u001b[0m\u001b[0mfileobj\u001b[0m\u001b[0;34m)\u001b[0m\u001b[0;34m\u001b[0m\u001b[0;34m\u001b[0m\u001b[0m\n",
      "\u001b[0;31mFileNotFoundError\u001b[0m: [Errno 2] No such file or directory: './data/PSZ2_G230.29-47/PSZ2_G230.29-47_vtp.detect'"
     ]
    }
   ],
   "source": [
    "# get file data\n",
    "data = load_PSZcatalog()\n",
    "data = data.sort_index(axis=1)\n",
    "\n",
    "outpath = './data'\n",
    "\n",
    "arr = [{'name':n.replace(' ', '_'), 'outpath':outpath} for n in data['NAME']]\n",
    "\n",
    "###\n",
    "# This is the order you should call the functions. \n",
    "# There are other functions in this notebook, but these are the only ones \n",
    "# that should be called directly.\n",
    "###\n",
    "\n",
    "parallel_process(arr, ks_test_sources, use_kwargs=True, n_jobs=1)\n",
    "\n",
    "###\n",
    "# There are a few sources which are misclassified as point sources\n",
    "# when they are really extended sources. This is probably because \n",
    "# those clusters have AGN in them. They should be reclassified as \n",
    "# extended sources. This is after a bunch of checking and visual \n",
    "# inspections. \n",
    "#\n",
    "## Note: This does not automatically update the color coding on\n",
    "# the images created in Notebook 8. You would need to modify\n",
    "# the region files by hand.\n",
    "###\n",
    "names = ['PSZ2_G324.04+48.79', 'PSZ2_G339.63-69.34', 'PSZ2_G085.72+10.66', 'PSZ2_G230.29-47']\n",
    "srcs = [1, 4, 1, 2] # one source in each field\n",
    "\n",
    "for src, name in zip(srcs, names):\n",
    "    detects = Table.read(f'{outpath}/{name}/{name}_vtp.detect', hdu=1)\n",
    "    detects[src - 1]['Extended'] = 1 # the indexes are 1 index'd\n",
    "    detects.write(f'{outpath}/{name}/{name}_vtp.detect', format='fits', overwrite=True)\n",
    "\n",
    "###\n",
    "# Now we are going to do the exact opposite. reclassify any extended sources as point sources\n",
    "#\n",
    "## Note: This does not automatically update the color coding on\n",
    "# the images created in Notebook 8. You would need to modify\n",
    "# the region files by hand.\n",
    "###    \n",
    "    \n",
    "    \n",
    "names = ['PSZ2_G094.00+27.41']\n",
    "srcs = [3,] # one source in each field\n",
    "\n",
    "for src, name in zip(srcs, names):\n",
    "    detects = Table.read(f'{outpath}/{name}/{name}_vtp.detect', hdu=1)\n",
    "    detects[src - 1]['Extended'] = 0 # the indexes are 1 index'd\n",
    "    detects.write(f'{outpath}/{name}/{name}_vtp.detect', format='fits', overwrite=True)    \n",
    "    \n"
   ]
  },
  {
   "cell_type": "code",
   "execution_count": null,
   "metadata": {},
   "outputs": [],
   "source": [
    "### For testing ###\n",
    "\n",
    "outpath = './data'\n",
    "# name = 'PSZ2_G094.00+27.41'\n",
    "name = 'PSZ2_G003.21-76.04'\n",
    "ks_test_sources(name, outpath, True)"
   ]
  },
  {
   "cell_type": "code",
   "execution_count": null,
   "metadata": {},
   "outputs": [],
   "source": []
  },
  {
   "cell_type": "code",
   "execution_count": null,
   "metadata": {},
   "outputs": [],
   "source": [
    "##############\n",
    "### Legacy code I didn't want to throw away\n",
    "##############\n",
    "\n",
    "# def integ_beta_model(r, rc, beta):\n",
    "#     # from notebook 4a\n",
    "    \n",
    "#     ''' 2pi*r integral of the above Beta model with 3 parameters. \n",
    "#     r -- r\n",
    "#     rc -- core radius\n",
    "#     beta -- powerlaw slope\n",
    "\n",
    "#     '''\n",
    "\n",
    "#     rc2 = rc * rc\n",
    "    \n",
    "#     return np.pi * rc2 / (1 - beta) * ((1 + r**2 / rc2)**(1 - beta) - 1)\n",
    "\n",
    "\n",
    "#         targetr1 = integ_beta_model(data['r1'], rc=(fit['rc_50'][loc] * 60/2.36), beta=fit['beta_50'][loc])\n",
    "#         targetr2 = integ_beta_model(data['r2'], rc=(fit['rc_50'][loc] * 60/2.36), beta=fit['beta_50'][loc])\n",
    "\n",
    "#         target = targetr2 - targetr1\n",
    "#         source_exp = target / data['y'] # y is the exposure time in each bin\n",
    "    \n",
    "#         # same for the psf -- I've already computed the profiles and stored them in the file\n",
    "#         # see notebook 4a\n",
    "#         psf_exp = data['psf'] / data['y']\n",
    "\n",
    "#         # cummulative distributions\n",
    "#         source_cum = np.cumsum(source_exp)\n",
    "#         psf_cum = np.cumsum(psf_exp)\n",
    "        \n",
    "#         # how far out do we want to go?\n",
    "#         bins = 30\n",
    "        \n",
    "#         # normalized\n",
    "#         source_cum_n = source_cum / source_cum[bins - 1]\n",
    "#         psf_cum_n = psf_cum / psf_cum[bins - 1]\n",
    "\n",
    "# #         # make CDFs\n",
    "#         source_cum_n = source_cum / source_cum[bins - 1]\n",
    "#         psf_cum_n = psf_cum / psf_cum[bins - 1]\n",
    "        \n",
    "#         pixscale = 2.36 # arcs/pix"
   ]
  },
  {
   "cell_type": "code",
   "execution_count": null,
   "metadata": {},
   "outputs": [],
   "source": []
  }
 ],
 "metadata": {
  "kernelspec": {
   "display_name": "Python 3",
   "language": "python",
   "name": "python3"
  },
  "language_info": {
   "codemirror_mode": {
    "name": "ipython",
    "version": 3
   },
   "file_extension": ".py",
   "mimetype": "text/x-python",
   "name": "python",
   "nbconvert_exporter": "python",
   "pygments_lexer": "ipython3",
   "version": "3.8.1"
  },
  "toc": {
   "base_numbering": 1,
   "nav_menu": {},
   "number_sections": true,
   "sideBar": true,
   "skip_h1_title": false,
   "title_cell": "Table of Contents",
   "title_sidebar": "Contents",
   "toc_cell": false,
   "toc_position": {},
   "toc_section_display": true,
   "toc_window_display": false
  },
  "varInspector": {
   "cols": {
    "lenName": 16,
    "lenType": 16,
    "lenVar": 40
   },
   "kernels_config": {
    "python": {
     "delete_cmd_postfix": "",
     "delete_cmd_prefix": "del ",
     "library": "var_list.py",
     "varRefreshCmd": "print(var_dic_list())"
    },
    "r": {
     "delete_cmd_postfix": ") ",
     "delete_cmd_prefix": "rm(",
     "library": "var_list.r",
     "varRefreshCmd": "cat(var_dic_list()) "
    }
   },
   "types_to_exclude": [
    "module",
    "function",
    "builtin_function_or_method",
    "instance",
    "_Feature"
   ],
   "window_display": false
  }
 },
 "nbformat": 4,
 "nbformat_minor": 2
}
